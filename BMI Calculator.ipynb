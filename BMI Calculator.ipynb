{
 "cells": [
  {
   "cell_type": "markdown",
   "id": "8e8cafbe",
   "metadata": {},
   "source": [
    "# BMI Calculator \n",
    "\n",
    "https://mercer-health.com/#:~:text=Body%20Mass%20Index%2C%20or%20BMI,inches%20x%20height%20in%20inches"
   ]
  },
  {
   "cell_type": "markdown",
   "id": "306a44ad",
   "metadata": {},
   "source": [
    "https://webcache.googleusercontent.com/search?q=cache:x-lvWBUir1MJ:https://mercer-health.com/services/weight-management-center/bmi-calculator&cd=1&hl=nl&ct=clnk&gl=ru"
   ]
  },
  {
   "cell_type": "markdown",
   "id": "b75de2a4",
   "metadata": {},
   "source": [
    "#### BMI = (weight * 703) / (height * height)\n"
   ]
  },
  {
   "cell_type": "markdown",
   "id": "ac4d8ba5",
   "metadata": {},
   "source": [
    "#### BMI Classification\tHealth Risk\n",
    "\n",
    "Under 18.5\tUnderweight\tMinimal \n",
    "18.5 - 24.9\tNormal Weight\tMinimal\n",
    "25 - 29.9\tOverweight\tIncreased\n",
    "30 - 34.9\tObese\tHigh\n",
    "35 - 39.9\tSeverely Obese\tVery High\n",
    "40 and over\tMorbidly Obese\tExtremely High\n"
   ]
  },
  {
   "cell_type": "markdown",
   "id": "30809f7b",
   "metadata": {},
   "source": [
    " "
   ]
  },
  {
   "cell_type": "code",
   "execution_count": 7,
   "id": "e6d12c0d",
   "metadata": {},
   "outputs": [
    {
     "name": "stdout",
     "output_type": "stream",
     "text": [
      "Body Mass Index, or BMI, is a measurement of body fat based on height and weight.\n"
     ]
    }
   ],
   "source": [
    "print(\"Body Mass Index, or BMI, is a measurement of body fat based on height and weight.\")"
   ]
  },
  {
   "cell_type": "code",
   "execution_count": 5,
   "id": "25219bdb",
   "metadata": {},
   "outputs": [
    {
     "name": "stdout",
     "output_type": "stream",
     "text": [
      "Enter your weight in pounds: 120\n",
      "Enter your height in inches: 63\n",
      "21.25472411186697\n",
      "you are normal weight.\n"
     ]
    }
   ],
   "source": [
    "weight = int(input(\"Enter your weight in pounds: \"))\n",
    "\n",
    "height = int(input(\"Enter your height in inches: \"))\n",
    "\n",
    "BMI = (weight * 703) / (height * height)\n",
    "\n",
    "print(BMI)\n",
    "\n",
    "if BMI>0:\n",
    "    if(BMI<18.5):\n",
    "        print(\"you are underwight.\")\n",
    "    elif (BMI<=24.9):\n",
    "        print(\"you are normal weight.\")\n",
    "    elif (BMI<29.9):\n",
    "        print(\"you are overweight.\")\n",
    "    elif (BMI<34.9):\n",
    "        print(\"you are obese.\")\n",
    "    elif (BMI<39.9):\n",
    "        print(\"you are severely obese.\")\n",
    "    else:\n",
    "        print(\"you are morbidly obese.\")\n",
    "else:\n",
    "    print(\"Enter valid input\")"
   ]
  },
  {
   "cell_type": "code",
   "execution_count": null,
   "id": "1958e167",
   "metadata": {},
   "outputs": [],
   "source": []
  },
  {
   "cell_type": "code",
   "execution_count": null,
   "id": "e303586e",
   "metadata": {},
   "outputs": [],
   "source": []
  },
  {
   "cell_type": "code",
   "execution_count": null,
   "id": "16dc7ded",
   "metadata": {},
   "outputs": [],
   "source": []
  }
 ],
 "metadata": {
  "kernelspec": {
   "display_name": "Python 3 (ipykernel)",
   "language": "python",
   "name": "python3"
  },
  "language_info": {
   "codemirror_mode": {
    "name": "ipython",
    "version": 3
   },
   "file_extension": ".py",
   "mimetype": "text/x-python",
   "name": "python",
   "nbconvert_exporter": "python",
   "pygments_lexer": "ipython3",
   "version": "3.9.12"
  }
 },
 "nbformat": 4,
 "nbformat_minor": 5
}
